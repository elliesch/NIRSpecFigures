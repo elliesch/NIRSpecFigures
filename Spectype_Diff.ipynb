{
 "cells": [
  {
   "cell_type": "code",
   "execution_count": 1,
   "metadata": {
    "collapsed": false
   },
   "outputs": [],
   "source": [
    "import matplotlib.pyplot as plt\n",
    "import numpy as np\n",
    "import math\n",
    "import matplotlib.mlab as mlab\n",
    "from matplotlib.pyplot import cm \n",
    "import matplotlib.lines as mlines\n",
    "from matplotlib import colors\n",
    "import collections\n",
    "\n",
    "# import seaborn.apionly as sns\n",
    "# to import seaborn without bringing in styles\n",
    "\n",
    "import seaborn as sns\n",
    "sns.set_style(\"whitegrid\")\n",
    "%matplotlib inline\n",
    "# plt.rcParams['font.family']='serif'"
   ]
  },
  {
   "cell_type": "code",
   "execution_count": null,
   "metadata": {
    "collapsed": true
   },
   "outputs": [],
   "source": [
    "##=============\n",
    "## Porting in arrays from csv\n",
    "##=============\n",
    "\n",
    "\n",
    "csv = np.genfromtxt ('OptNIR_ALL.csv', delimiter=\",\")\n",
    "spectype = csv[1:,5]\n",
    "NIR_DIFF = csv[1:,13]\n",
    "NIR_DIFF_grav = csv[1:,14]\n",
    "SPLAT_DIFF = csv[1:,17]\n",
    "SPLAT_DIFF_grav = csv[1:,18]\n",
    "\n",
    "NIR_index=[]\n",
    "SPLAT_index=[]\n",
    "\n",
    "for ii in range(len(NIR_DIFF)) :\n",
    "    if NIR_DIFF[ii] >= 0. :\n",
    "        NIR_index.append(True)\n",
    "    else:\n",
    "        NIR_index.append(False)\n",
    "NIR_index = np.array(NIR_index)\n",
    "\n",
    "for jj in range(len(SPLAT_DIFF)) :\n",
    "    if SPLAT_DIFF[jj] >= 0. :\n",
    "        SPLAT_index.append(True)\n",
    "    else:\n",
    "        SPLAT_index.append(False)\n",
    "SPLAT_index = np.array(SPLAT_index)\n",
    "\n",
    "spectype_NIR = spectype[NIR_index]\n",
    "NIR_DIFF = NIR_DIFF[NIR_index]\n",
    "NIR_DIFF_grav = NIR_DIFF_grav[NIR_index]\n",
    "\n",
    "spectype_SPLAT = spectype[SPLAT_index]\n",
    "SPLAT_DIFF = SPLAT_DIFF[SPLAT_index]\n",
    "SPLAT_DIFF_grav = SPLAT_DIFF_grav[SPLAT_index]"
   ]
  },
  {
   "cell_type": "code",
   "execution_count": null,
   "metadata": {
    "collapsed": true
   },
   "outputs": [],
   "source": [
    "cmap = colors.ListedColormap(['purple', 'blue'])\n"
   ]
  },
  {
   "cell_type": "code",
   "execution_count": null,
   "metadata": {
    "collapsed": false
   },
   "outputs": [],
   "source": [
    "##=============\n",
    "## Scatterplots!\n",
    "##=============\n",
    "\n",
    "#NIR Measurements Plot\n",
    "\n",
    "fig = plt.figure(figsize=(8,5))\n",
    "\n",
    "sc = plt.scatter(spectype_NIR, NIR_DIFF, c=NIR_DIFF_grav, s=60, cmap=cmap, alpha=0.4)\n",
    "plt.colorbar(sc, ticks=[0,1])\n",
    "plt.title(\"Difference Between This Paper and NIR Measurements\")\n",
    "plt.xlabel(\"Spectral Type\")\n",
    "plt.ylabel(\"Difference in Type Number\")"
   ]
  },
  {
   "cell_type": "code",
   "execution_count": null,
   "metadata": {
    "collapsed": false
   },
   "outputs": [],
   "source": [
    "#SPLAT Measurements Plot\n",
    "\n",
    "fig = plt.figure(figsize=(8,5))\n",
    "# s = [1.1*1.3**n for n in range(0,30)]\n",
    "\n",
    "ab = plt.scatter(spectype_SPLAT, SPLAT_DIFF, c=SPLAT_DIFF_grav, s=60, cmap=cmap, alpha=0.4)\n",
    "plt.colorbar(ab, ticks=[0,1])\n",
    "plt.title(\"Difference Between This Paper and SPLAT Measurements\")\n",
    "plt.xlabel(\"Spectral Type\")\n",
    "plt.ylabel(\"Difference in Type Number\")"
   ]
  },
  {
   "cell_type": "code",
   "execution_count": null,
   "metadata": {
    "collapsed": false
   },
   "outputs": [],
   "source": [
    "# To create the above plot, but with different sizes and opacities per occurence, /\n",
    "# I can create different arrays according to how many dots are at each point!\n",
    "\n",
    "# To start I need to find the occurence of each x,y value\n",
    "\n",
    "for ii in [0,0.5,1,1.5,2,2.5,3,3.5,4,4.5,5,5.5,6,6.5,7]:\n",
    "    how_many=len(SPLAT_DIFF[L8_index][SPLAT_DIFF[L8_index]==ii])\n",
    "\n",
    "# Now I need to find a way to sort out arrays, we have anywhere from 1-15 occurences (with blanks for  9,10,12) /\n",
    "# And I want to sort arrays that are still sorted by color and according to number of occurences\n",
    "\n",
    "s = [20*2**n for n in range(0,15)]\n",
    "\n",
    "# The sizing is tricky an grows either too quickly or too slowly. I will work on that. /\n",
    "# For now I'm going to try seaborn's swarm plot\n",
    "\n",
    "sns.swarmplot(x=spectype_SPLAT, y=SPLAT_DIFF, hue=SPLAT_DIFF_grav, palette=['purple', 'blue'])\n",
    "plt.title(\"Difference Between This Paper and SPLAT Measurements\")\n",
    "plt.xlabel(\"Spectral Type\")\n",
    "plt.ylabel(\"Difference in Type Number\")"
   ]
  },
  {
   "cell_type": "code",
   "execution_count": null,
   "metadata": {
    "collapsed": false
   },
   "outputs": [],
   "source": [
    "##=============\n",
    "## Histograms!\n",
    "##=============\n",
    "\n",
    "fig = plt.figure(figsize=(8,5))\n",
    "\n",
    "colors = ['lime', 'yellow']\n",
    "labels = ['SPLAT Diff', 'NIR Diff']\n",
    "plt.hist([SPLAT_DIFF, NIR_DIFF], bins=16, normed=False, stacked=True, color=colors, label=labels)\n",
    "plt.legend()\n",
    "\n",
    "plt.xlabel(\"Difference Between Spectral Types\")\n",
    "plt.ylabel(\"Frequency\")\n",
    "\n",
    "# ax0.legend(prop={'size': 10})"
   ]
  },
  {
   "cell_type": "code",
   "execution_count": null,
   "metadata": {
    "collapsed": false
   },
   "outputs": [],
   "source": [
    "# I want to figure out how to divide the SPLAT differences into spectral type by color in a stacked histogram\n",
    "\n",
    "# print spectype_SPLAT, SPLAT_DIFF\n",
    "\n",
    "fig = plt.figure(figsize=(8,5))\n",
    "\n",
    "L0_index=np.where(spectype_SPLAT == 10.)\n",
    "L1_index=np.where(spectype_SPLAT == 11.)\n",
    "L2_index=np.where(spectype_SPLAT == 12.)\n",
    "L3_index=np.where(spectype_SPLAT == 13.)\n",
    "L4_index=np.where(spectype_SPLAT == 14.)\n",
    "L5_index=np.where(spectype_SPLAT == 15.)\n",
    "L6_index=np.where(spectype_SPLAT == 16.)\n",
    "L7_index=np.where(spectype_SPLAT == 17.)\n",
    "L8_index=np.where(spectype_SPLAT == 18.)\n",
    "\n",
    "colors=[]\n",
    "for i in range(0,9):\n",
    "    colors.append(cm.gist_rainbow(1.*i/9))\n",
    "\n",
    "arrays = [SPLAT_DIFF[L0_index], SPLAT_DIFF[L1_index], SPLAT_DIFF[L2_index], SPLAT_DIFF[L3_index], SPLAT_DIFF[L4_index], SPLAT_DIFF[L5_index], SPLAT_DIFF[L6_index], SPLAT_DIFF[L7_index], SPLAT_DIFF[L8_index]]\n",
    "labels = ['L0', 'L1', 'L2', 'L3', 'L4', 'L5', 'L6', 'L7', 'L8']\n",
    "plt.hist(arrays , bins=[0,0.5,1,1.5,2,2.5,3,3.5,4,4.5,5,5.5,6,6.5,7], normed=False, stacked=True, label=labels, color=colors)\n",
    "plt.legend()\n",
    "\n",
    "plt.xlabel(\"Difference Between This Paper and SPLAT Spectral Types\")\n",
    "plt.ylabel(\"Frequency\")"
   ]
  },
  {
   "cell_type": "code",
   "execution_count": 18,
   "metadata": {
    "collapsed": false
   },
   "outputs": [],
   "source": [
    "csv = np.genfromtxt ('OptNIR_modified.csv', delimiter=\",\", dtype=str)\n",
    "OPT_spectype = csv[1:,7]\n",
    "NIR_spectype = csv[1:,21]\n",
    "g_diff = csv[1:,22]\n",
    "\n",
    "# print(OPT_spectype, NIR_spectype)"
   ]
  },
  {
   "cell_type": "code",
   "execution_count": 19,
   "metadata": {
    "collapsed": false
   },
   "outputs": [],
   "source": [
    "NIR_spectype_nog = []\n",
    "OPT_spectype_nog = []\n",
    "for ii in range(len(NIR_spectype)):\n",
    "    obj = NIR_spectype[ii]\n",
    "    obj2 = OPT_spectype[ii]\n",
    "    NIR_spectype_nog.append(int(obj[:2]))\n",
    "    OPT_spectype_nog.append(int(obj2[:2]))"
   ]
  },
  {
   "cell_type": "code",
   "execution_count": 20,
   "metadata": {
    "collapsed": false
   },
   "outputs": [
    {
     "data": {
      "image/png": "[encoded data removed]",
      "text/plain": [
       "<matplotlib.figure.Figure at 0x119c88e48>"
      ]
     },
     "metadata": {},
     "output_type": "display_data"
    }
   ],
   "source": [
    "y=np.array([10,18])\n",
    "x=y\n",
    "sns.regplot(y=y, x=x, marker='o', color='k')\n",
    "sns.swarmplot(x=OPT_spectype_nog, y=NIR_spectype_nog, hue=g_diff, palette=['purple', 'blue'])\n",
    "plt.legend(frameon='True')\n",
    "# plt.title(\"Difference Between This Paper and SPLAT Measurements\")\n",
    "plt.xlabel(\"Optical Spectral Type\")\n",
    "plt.ylabel(\"NIR Spectral Type\")\n",
    "plt.show()"
   ]
  },
  {
   "cell_type": "code",
   "execution_count": null,
   "metadata": {
    "collapsed": true
   },
   "outputs": [],
   "source": []
  }
 ],
 "metadata": {
  "anaconda-cloud": {},
  "kernelspec": {
   "display_name": "Python [conda root]",
   "language": "python",
   "name": "conda-root-py"
  },
  "language_info": {
   "codemirror_mode": {
    "name": "ipython",
    "version": 3
   },
   "file_extension": ".py",
   "mimetype": "text/x-python",
   "name": "python",
   "nbconvert_exporter": "python",
   "pygments_lexer": "ipython3",
   "version": "3.5.2"
  }
 },
 "nbformat": 4,
 "nbformat_minor": 0
}
